{
 "cells": [
  {
   "cell_type": "markdown",
   "id": "d2a19b9c",
   "metadata": {},
   "source": [
    "# Case Study: How Does a Bike-Share Navigate Speedy Success?\n"
   ]
  },
  {
   "cell_type": "markdown",
   "id": "a08b7984",
   "metadata": {},
   "source": [
    "Analysis for a bike sharing company on how casual riders and annual members use Cyclistic bikes differently. From these insights,developing a new marketing strategy to convert casual riders into annual members. "
   ]
  },
  {
   "cell_type": "markdown",
   "id": "9c91b06a",
   "metadata": {},
   "source": [
    "Importing the required libraries"
   ]
  },
  {
   "cell_type": "code",
   "execution_count": 2,
   "id": "4c062df7",
   "metadata": {},
   "outputs": [],
   "source": [
    "import pandas as pd\n",
    "import numpy as np\n",
    "import matplotlib.pyplot as plt\n",
    "import seaborn as sns\n",
    "import datetime\n"
   ]
  },
  {
   "cell_type": "markdown",
   "id": "cb647e8c",
   "metadata": {},
   "source": [
    "Loading files"
   ]
  },
  {
   "cell_type": "code",
   "execution_count": 3,
   "id": "2aaa0522",
   "metadata": {},
   "outputs": [],
   "source": [
    "case_1 = pd.read_csv(\"D:/Data Science Projects/Case Stud/202110-divvy-tripdata.csv\")\n",
    "case_2 = pd.read_csv(\"D:/Data Science Projects/Case Stud/202111-divvy-tripdata.csv\")\n",
    "case_3 = pd.read_csv(\"D:/Data Science Projects/Case Stud/202112-divvy-tripdata.csv\")\n",
    "case_4 = pd.read_csv(\"D:/Data Science Projects/Case Stud/202201-divvy-tripdata.csv\")\n",
    "case_5 = pd.read_csv(\"D:/Data Science Projects/Case Stud/202202-divvy-tripdata.csv\")\n",
    "case_6 = pd.read_csv(\"D:/Data Science Projects/Case Stud/202203-divvy-tripdata.csv\")\n",
    "case_7 = pd.read_csv(\"D:/Data Science Projects/Case Stud/202204-divvy-tripdata.csv\")\n",
    "case_8 = pd.read_csv(\"D:/Data Science Projects/Case Stud/202205-divvy-tripdata.csv\")\n",
    "case_9 = pd.read_csv(\"D:/Data Science Projects/Case Stud/202206-divvy-tripdata.csv\")\n",
    "case_10 = pd.read_csv(\"D:/Data Science Projects/Case Stud/202207-divvy-tripdata.csv\")\n",
    "case_11 = pd.read_csv(\"D:/Data Science Projects/Case Stud/202208-divvy-tripdata.csv\")\n",
    "case_12 = pd.read_csv(\"D:/Data Science Projects/Case Stud/202209-divvy-publictripdata.csv\")"
   ]
  },
  {
   "cell_type": "markdown",
   "id": "6acd1913",
   "metadata": {},
   "source": [
    "Merging all the dataset"
   ]
  },
  {
   "cell_type": "code",
   "execution_count": 4,
   "id": "767ea5fb",
   "metadata": {},
   "outputs": [],
   "source": [
    "all_dfs = [case_1, case_2, case_3, case_4, case_5, case_6, case_7, case_8, case_9, case_10, case_11, case_12]\n",
    "case_file = pd.concat(all_dfs)\n",
    "df = case_file"
   ]
  },
  {
   "cell_type": "code",
   "execution_count": 5,
   "id": "5e3ecded",
   "metadata": {},
   "outputs": [
    {
     "data": {
      "text/html": [
       "<div>\n",
       "<style scoped>\n",
       "    .dataframe tbody tr th:only-of-type {\n",
       "        vertical-align: middle;\n",
       "    }\n",
       "\n",
       "    .dataframe tbody tr th {\n",
       "        vertical-align: top;\n",
       "    }\n",
       "\n",
       "    .dataframe thead th {\n",
       "        text-align: right;\n",
       "    }\n",
       "</style>\n",
       "<table border=\"1\" class=\"dataframe\">\n",
       "  <thead>\n",
       "    <tr style=\"text-align: right;\">\n",
       "      <th></th>\n",
       "      <th>ride_id</th>\n",
       "      <th>rideable_type</th>\n",
       "      <th>started_at</th>\n",
       "      <th>ended_at</th>\n",
       "      <th>start_station_name</th>\n",
       "      <th>start_station_id</th>\n",
       "      <th>end_station_name</th>\n",
       "      <th>end_station_id</th>\n",
       "      <th>start_lat</th>\n",
       "      <th>start_lng</th>\n",
       "      <th>end_lat</th>\n",
       "      <th>end_lng</th>\n",
       "      <th>member_casual</th>\n",
       "    </tr>\n",
       "  </thead>\n",
       "  <tbody>\n",
       "    <tr>\n",
       "      <th>0</th>\n",
       "      <td>620BC6107255BF4C</td>\n",
       "      <td>electric_bike</td>\n",
       "      <td>2021-10-22 12:46:42</td>\n",
       "      <td>2021-10-22 12:49:50</td>\n",
       "      <td>Kingsbury St &amp; Kinzie St</td>\n",
       "      <td>KA1503000043</td>\n",
       "      <td>NaN</td>\n",
       "      <td>NaN</td>\n",
       "      <td>41.889186</td>\n",
       "      <td>-87.638495</td>\n",
       "      <td>41.89</td>\n",
       "      <td>-87.63</td>\n",
       "      <td>member</td>\n",
       "    </tr>\n",
       "    <tr>\n",
       "      <th>1</th>\n",
       "      <td>4471C70731AB2E45</td>\n",
       "      <td>electric_bike</td>\n",
       "      <td>2021-10-21 09:12:37</td>\n",
       "      <td>2021-10-21 09:14:14</td>\n",
       "      <td>NaN</td>\n",
       "      <td>NaN</td>\n",
       "      <td>NaN</td>\n",
       "      <td>NaN</td>\n",
       "      <td>41.930000</td>\n",
       "      <td>-87.700000</td>\n",
       "      <td>41.93</td>\n",
       "      <td>-87.71</td>\n",
       "      <td>member</td>\n",
       "    </tr>\n",
       "    <tr>\n",
       "      <th>2</th>\n",
       "      <td>26CA69D43D15EE14</td>\n",
       "      <td>electric_bike</td>\n",
       "      <td>2021-10-16 16:28:39</td>\n",
       "      <td>2021-10-16 16:36:26</td>\n",
       "      <td>NaN</td>\n",
       "      <td>NaN</td>\n",
       "      <td>NaN</td>\n",
       "      <td>NaN</td>\n",
       "      <td>41.920000</td>\n",
       "      <td>-87.700000</td>\n",
       "      <td>41.94</td>\n",
       "      <td>-87.72</td>\n",
       "      <td>member</td>\n",
       "    </tr>\n",
       "    <tr>\n",
       "      <th>3</th>\n",
       "      <td>362947F0437E1514</td>\n",
       "      <td>electric_bike</td>\n",
       "      <td>2021-10-16 16:17:48</td>\n",
       "      <td>2021-10-16 16:19:03</td>\n",
       "      <td>NaN</td>\n",
       "      <td>NaN</td>\n",
       "      <td>NaN</td>\n",
       "      <td>NaN</td>\n",
       "      <td>41.920000</td>\n",
       "      <td>-87.690000</td>\n",
       "      <td>41.92</td>\n",
       "      <td>-87.69</td>\n",
       "      <td>member</td>\n",
       "    </tr>\n",
       "    <tr>\n",
       "      <th>4</th>\n",
       "      <td>BB731DE2F2EC51C5</td>\n",
       "      <td>electric_bike</td>\n",
       "      <td>2021-10-20 23:17:54</td>\n",
       "      <td>2021-10-20 23:26:10</td>\n",
       "      <td>NaN</td>\n",
       "      <td>NaN</td>\n",
       "      <td>NaN</td>\n",
       "      <td>NaN</td>\n",
       "      <td>41.890000</td>\n",
       "      <td>-87.710000</td>\n",
       "      <td>41.89</td>\n",
       "      <td>-87.69</td>\n",
       "      <td>member</td>\n",
       "    </tr>\n",
       "  </tbody>\n",
       "</table>\n",
       "</div>"
      ],
      "text/plain": [
       "            ride_id  rideable_type           started_at             ended_at  \\\n",
       "0  620BC6107255BF4C  electric_bike  2021-10-22 12:46:42  2021-10-22 12:49:50   \n",
       "1  4471C70731AB2E45  electric_bike  2021-10-21 09:12:37  2021-10-21 09:14:14   \n",
       "2  26CA69D43D15EE14  electric_bike  2021-10-16 16:28:39  2021-10-16 16:36:26   \n",
       "3  362947F0437E1514  electric_bike  2021-10-16 16:17:48  2021-10-16 16:19:03   \n",
       "4  BB731DE2F2EC51C5  electric_bike  2021-10-20 23:17:54  2021-10-20 23:26:10   \n",
       "\n",
       "         start_station_name start_station_id end_station_name end_station_id  \\\n",
       "0  Kingsbury St & Kinzie St     KA1503000043              NaN            NaN   \n",
       "1                       NaN              NaN              NaN            NaN   \n",
       "2                       NaN              NaN              NaN            NaN   \n",
       "3                       NaN              NaN              NaN            NaN   \n",
       "4                       NaN              NaN              NaN            NaN   \n",
       "\n",
       "   start_lat  start_lng  end_lat  end_lng member_casual  \n",
       "0  41.889186 -87.638495    41.89   -87.63        member  \n",
       "1  41.930000 -87.700000    41.93   -87.71        member  \n",
       "2  41.920000 -87.700000    41.94   -87.72        member  \n",
       "3  41.920000 -87.690000    41.92   -87.69        member  \n",
       "4  41.890000 -87.710000    41.89   -87.69        member  "
      ]
     },
     "execution_count": 5,
     "metadata": {},
     "output_type": "execute_result"
    }
   ],
   "source": [
    "df.head()"
   ]
  },
  {
   "cell_type": "code",
   "execution_count": 6,
   "id": "27959b8e",
   "metadata": {},
   "outputs": [
    {
     "name": "stdout",
     "output_type": "stream",
     "text": [
      "<class 'pandas.core.frame.DataFrame'>\n",
      "Int64Index: 5828235 entries, 0 to 701338\n",
      "Data columns (total 13 columns):\n",
      " #   Column              Dtype  \n",
      "---  ------              -----  \n",
      " 0   ride_id             object \n",
      " 1   rideable_type       object \n",
      " 2   started_at          object \n",
      " 3   ended_at            object \n",
      " 4   start_station_name  object \n",
      " 5   start_station_id    object \n",
      " 6   end_station_name    object \n",
      " 7   end_station_id      object \n",
      " 8   start_lat           float64\n",
      " 9   start_lng           float64\n",
      " 10  end_lat             float64\n",
      " 11  end_lng             float64\n",
      " 12  member_casual       object \n",
      "dtypes: float64(4), object(9)\n",
      "memory usage: 622.5+ MB\n"
     ]
    }
   ],
   "source": [
    "df.info()"
   ]
  },
  {
   "cell_type": "markdown",
   "id": "5f9389e6",
   "metadata": {},
   "source": [
    "# Arranging and  Cleaning Data"
   ]
  },
  {
   "cell_type": "code",
   "execution_count": 7,
   "id": "f577f1b4",
   "metadata": {},
   "outputs": [],
   "source": [
    "df['start_time'] = pd.to_datetime(df['started_at'])\n",
    "df['end_time'] = pd.to_datetime(df['ended_at'])"
   ]
  },
  {
   "cell_type": "code",
   "execution_count": 9,
   "id": "cdcc24c1",
   "metadata": {},
   "outputs": [
    {
     "data": {
      "text/plain": [
       "0        0 days 00:03:08\n",
       "1        0 days 00:01:37\n",
       "2        0 days 00:07:47\n",
       "3        0 days 00:01:15\n",
       "4        0 days 00:08:16\n",
       "               ...      \n",
       "701334   0 days 00:19:46\n",
       "701335   0 days 00:13:46\n",
       "701336   0 days 00:11:18\n",
       "701337   0 days 00:10:14\n",
       "701338   0 days 00:10:57\n",
       "Name: running_time, Length: 5828235, dtype: timedelta64[ns]"
      ]
     },
     "execution_count": 9,
     "metadata": {},
     "output_type": "execute_result"
    }
   ],
   "source": [
    "#Running Time\n",
    "\n",
    "df['running_time'] = df['end_time'] - df['start_time']\n",
    "df['running_time']"
   ]
  },
  {
   "cell_type": "code",
   "execution_count": 10,
   "id": "9a1eba09",
   "metadata": {},
   "outputs": [
    {
     "name": "stdout",
     "output_type": "stream",
     "text": [
      "<class 'pandas.core.frame.DataFrame'>\n",
      "Int64Index: 5828235 entries, 0 to 701338\n",
      "Data columns (total 16 columns):\n",
      " #   Column              Dtype          \n",
      "---  ------              -----          \n",
      " 0   ride_id             object         \n",
      " 1   rideable_type       object         \n",
      " 2   started_at          object         \n",
      " 3   ended_at            object         \n",
      " 4   start_station_name  object         \n",
      " 5   start_station_id    object         \n",
      " 6   end_station_name    object         \n",
      " 7   end_station_id      object         \n",
      " 8   start_lat           float64        \n",
      " 9   start_lng           float64        \n",
      " 10  end_lat             float64        \n",
      " 11  end_lng             float64        \n",
      " 12  member_casual       object         \n",
      " 13  start_time          datetime64[ns] \n",
      " 14  end_time            datetime64[ns] \n",
      " 15  running_time        timedelta64[ns]\n",
      "dtypes: datetime64[ns](2), float64(4), object(9), timedelta64[ns](1)\n",
      "memory usage: 755.9+ MB\n"
     ]
    }
   ],
   "source": [
    "df.info()"
   ]
  },
  {
   "cell_type": "markdown",
   "id": "f7539268",
   "metadata": {},
   "source": [
    "-->Getting Date"
   ]
  },
  {
   "cell_type": "code",
   "execution_count": 11,
   "id": "693ab612",
   "metadata": {},
   "outputs": [
    {
     "data": {
      "text/plain": [
       "0         2021-10-22\n",
       "1         2021-10-21\n",
       "2         2021-10-16\n",
       "3         2021-10-16\n",
       "4         2021-10-20\n",
       "             ...    \n",
       "701334    2022-09-05\n",
       "701335    2022-09-30\n",
       "701336    2022-09-04\n",
       "701337    2022-09-28\n",
       "701338    2022-09-01\n",
       "Name: start_date1, Length: 5828235, dtype: object"
      ]
     },
     "execution_count": 11,
     "metadata": {},
     "output_type": "execute_result"
    }
   ],
   "source": [
    "df[\"start_date1\"] = [i.split(\" \")[0] for i in df[\"started_at\"]]\n",
    "df[\"start_date1\"]"
   ]
  },
  {
   "cell_type": "code",
   "execution_count": 12,
   "id": "867f4a7a",
   "metadata": {},
   "outputs": [],
   "source": [
    "df[\"start_date1\"] = pd.to_datetime(df[\"start_date1\"])"
   ]
  },
  {
   "cell_type": "code",
   "execution_count": 13,
   "id": "c2fa71da",
   "metadata": {},
   "outputs": [
    {
     "data": {
      "text/plain": [
       "array([4, 3, 5, 2, 6, 1, 0], dtype=int64)"
      ]
     },
     "execution_count": 13,
     "metadata": {},
     "output_type": "execute_result"
    }
   ],
   "source": [
    "df['week_day'] = df[\"start_date1\"].apply(lambda x: x.weekday())\n",
    "df['week_day'].unique()"
   ]
  },
  {
   "cell_type": "markdown",
   "id": "82c97dcd",
   "metadata": {},
   "source": [
    " -->Converting weekday values into weekday"
   ]
  },
  {
   "cell_type": "code",
   "execution_count": 14,
   "id": "cbc25da0",
   "metadata": {},
   "outputs": [
    {
     "data": {
      "text/plain": [
       "0          Thursday\n",
       "1         Wednesday\n",
       "2            Friday\n",
       "3            Friday\n",
       "4           Tuesday\n",
       "            ...    \n",
       "701334       Sunday\n",
       "701335     Thursday\n",
       "701336     Saturday\n",
       "701337      Tuesday\n",
       "701338    Wednesday\n",
       "Name: week_day, Length: 5828235, dtype: object"
      ]
     },
     "execution_count": 14,
     "metadata": {},
     "output_type": "execute_result"
    }
   ],
   "source": [
    "\n",
    "dict1 = {0: \"Sunday\", 1: \"Monday\", 2: \"Tuesday\", 3: \"Wednesday\", 4: \"Thursday\", 5: \"Friday\", 6: \"Saturday\"}\n",
    "df['week_day'] = df['week_day'].apply(lambda y: dict1[y])\n",
    "df['week_day']"
   ]
  },
  {
   "cell_type": "code",
   "execution_count": 15,
   "id": "b2f3b2f7",
   "metadata": {},
   "outputs": [],
   "source": [
    "# To sort the dataframe by start date in ascending order\n",
    "df.sort_values(by=['started_at'], inplace=True, ascending=True)"
   ]
  },
  {
   "cell_type": "code",
   "execution_count": 17,
   "id": "bc2f7508",
   "metadata": {},
   "outputs": [
    {
     "data": {
      "text/plain": [
       "ride_id                    0\n",
       "rideable_type              0\n",
       "started_at                 0\n",
       "ended_at                   0\n",
       "start_station_name    895032\n",
       "start_station_id      895032\n",
       "end_station_name      958227\n",
       "end_station_id        958227\n",
       "start_lat                  0\n",
       "start_lng                  0\n",
       "end_lat                 5844\n",
       "end_lng                 5844\n",
       "member_casual              0\n",
       "start_time                 0\n",
       "end_time                   0\n",
       "running_time               0\n",
       "start_date1                0\n",
       "week_day                   0\n",
       "dtype: int64"
      ]
     },
     "execution_count": 17,
     "metadata": {},
     "output_type": "execute_result"
    }
   ],
   "source": [
    "df.isnull().sum()"
   ]
  },
  {
   "cell_type": "code",
   "execution_count": 20,
   "id": "756cae66",
   "metadata": {},
   "outputs": [
    {
     "data": {
      "text/html": [
       "<div>\n",
       "<style scoped>\n",
       "    .dataframe tbody tr th:only-of-type {\n",
       "        vertical-align: middle;\n",
       "    }\n",
       "\n",
       "    .dataframe tbody tr th {\n",
       "        vertical-align: top;\n",
       "    }\n",
       "\n",
       "    .dataframe thead th {\n",
       "        text-align: right;\n",
       "    }\n",
       "</style>\n",
       "<table border=\"1\" class=\"dataframe\">\n",
       "  <thead>\n",
       "    <tr style=\"text-align: right;\">\n",
       "      <th></th>\n",
       "      <th>ride_id</th>\n",
       "      <th>rideable_type</th>\n",
       "      <th>started_at</th>\n",
       "      <th>ended_at</th>\n",
       "      <th>start_station_name</th>\n",
       "      <th>start_station_id</th>\n",
       "      <th>end_station_name</th>\n",
       "      <th>end_station_id</th>\n",
       "      <th>start_lat</th>\n",
       "      <th>start_lng</th>\n",
       "      <th>end_lat</th>\n",
       "      <th>end_lng</th>\n",
       "      <th>member_casual</th>\n",
       "      <th>start_time</th>\n",
       "      <th>end_time</th>\n",
       "      <th>running_time</th>\n",
       "      <th>start_date1</th>\n",
       "      <th>week_day</th>\n",
       "    </tr>\n",
       "  </thead>\n",
       "  <tbody>\n",
       "    <tr>\n",
       "      <th>271143</th>\n",
       "      <td>ABA2BDC3595FC3E9</td>\n",
       "      <td>classic_bike</td>\n",
       "      <td>2021-10-01 00:00:09</td>\n",
       "      <td>2021-10-01 00:10:12</td>\n",
       "      <td>Morgan St &amp; Lake St</td>\n",
       "      <td>TA1306000015</td>\n",
       "      <td>Noble St &amp; Milwaukee Ave</td>\n",
       "      <td>13290</td>\n",
       "      <td>41.885483</td>\n",
       "      <td>-87.652305</td>\n",
       "      <td>41.900680</td>\n",
       "      <td>-87.662600</td>\n",
       "      <td>casual</td>\n",
       "      <td>2021-10-01 00:00:09</td>\n",
       "      <td>2021-10-01 00:10:12</td>\n",
       "      <td>0 days 00:10:03</td>\n",
       "      <td>2021-10-01</td>\n",
       "      <td>Thursday</td>\n",
       "    </tr>\n",
       "    <tr>\n",
       "      <th>117528</th>\n",
       "      <td>0BE9C131A5705D92</td>\n",
       "      <td>classic_bike</td>\n",
       "      <td>2021-10-01 00:00:16</td>\n",
       "      <td>2021-10-01 00:05:29</td>\n",
       "      <td>Damen Ave &amp; Cortland St</td>\n",
       "      <td>13133</td>\n",
       "      <td>Winchester Ave &amp; Elston Ave</td>\n",
       "      <td>KA1504000140</td>\n",
       "      <td>41.915983</td>\n",
       "      <td>-87.677335</td>\n",
       "      <td>41.924091</td>\n",
       "      <td>-87.676460</td>\n",
       "      <td>casual</td>\n",
       "      <td>2021-10-01 00:00:16</td>\n",
       "      <td>2021-10-01 00:05:29</td>\n",
       "      <td>0 days 00:05:13</td>\n",
       "      <td>2021-10-01</td>\n",
       "      <td>Thursday</td>\n",
       "    </tr>\n",
       "    <tr>\n",
       "      <th>341788</th>\n",
       "      <td>74483AC18C8C6B90</td>\n",
       "      <td>classic_bike</td>\n",
       "      <td>2021-10-01 00:00:18</td>\n",
       "      <td>2021-10-01 00:08:52</td>\n",
       "      <td>Halsted St &amp; Roscoe St</td>\n",
       "      <td>TA1309000025</td>\n",
       "      <td>Greenview Ave &amp; Diversey Pkwy</td>\n",
       "      <td>13294</td>\n",
       "      <td>41.943670</td>\n",
       "      <td>-87.648950</td>\n",
       "      <td>41.932590</td>\n",
       "      <td>-87.665936</td>\n",
       "      <td>casual</td>\n",
       "      <td>2021-10-01 00:00:18</td>\n",
       "      <td>2021-10-01 00:08:52</td>\n",
       "      <td>0 days 00:08:34</td>\n",
       "      <td>2021-10-01</td>\n",
       "      <td>Thursday</td>\n",
       "    </tr>\n",
       "    <tr>\n",
       "      <th>200504</th>\n",
       "      <td>F8DBF095F01E1B68</td>\n",
       "      <td>classic_bike</td>\n",
       "      <td>2021-10-01 00:02:22</td>\n",
       "      <td>2021-10-01 00:06:40</td>\n",
       "      <td>Pine Grove Ave &amp; Irving Park Rd</td>\n",
       "      <td>TA1308000022</td>\n",
       "      <td>Clarendon Ave &amp; Junior Ter</td>\n",
       "      <td>13389</td>\n",
       "      <td>41.954383</td>\n",
       "      <td>-87.648043</td>\n",
       "      <td>41.961004</td>\n",
       "      <td>-87.649603</td>\n",
       "      <td>member</td>\n",
       "      <td>2021-10-01 00:02:22</td>\n",
       "      <td>2021-10-01 00:06:40</td>\n",
       "      <td>0 days 00:04:18</td>\n",
       "      <td>2021-10-01</td>\n",
       "      <td>Thursday</td>\n",
       "    </tr>\n",
       "    <tr>\n",
       "      <th>21249</th>\n",
       "      <td>B0B9EB7622461EF4</td>\n",
       "      <td>classic_bike</td>\n",
       "      <td>2021-10-01 00:02:27</td>\n",
       "      <td>2021-10-01 00:17:56</td>\n",
       "      <td>MLK Jr Dr &amp; 29th St</td>\n",
       "      <td>TA1307000139</td>\n",
       "      <td>Clinton St &amp; Roosevelt Rd</td>\n",
       "      <td>WL-008</td>\n",
       "      <td>41.842052</td>\n",
       "      <td>-87.617000</td>\n",
       "      <td>41.867118</td>\n",
       "      <td>-87.641088</td>\n",
       "      <td>member</td>\n",
       "      <td>2021-10-01 00:02:27</td>\n",
       "      <td>2021-10-01 00:17:56</td>\n",
       "      <td>0 days 00:15:29</td>\n",
       "      <td>2021-10-01</td>\n",
       "      <td>Thursday</td>\n",
       "    </tr>\n",
       "  </tbody>\n",
       "</table>\n",
       "</div>"
      ],
      "text/plain": [
       "                 ride_id rideable_type           started_at  \\\n",
       "271143  ABA2BDC3595FC3E9  classic_bike  2021-10-01 00:00:09   \n",
       "117528  0BE9C131A5705D92  classic_bike  2021-10-01 00:00:16   \n",
       "341788  74483AC18C8C6B90  classic_bike  2021-10-01 00:00:18   \n",
       "200504  F8DBF095F01E1B68  classic_bike  2021-10-01 00:02:22   \n",
       "21249   B0B9EB7622461EF4  classic_bike  2021-10-01 00:02:27   \n",
       "\n",
       "                   ended_at               start_station_name start_station_id  \\\n",
       "271143  2021-10-01 00:10:12              Morgan St & Lake St     TA1306000015   \n",
       "117528  2021-10-01 00:05:29          Damen Ave & Cortland St            13133   \n",
       "341788  2021-10-01 00:08:52           Halsted St & Roscoe St     TA1309000025   \n",
       "200504  2021-10-01 00:06:40  Pine Grove Ave & Irving Park Rd     TA1308000022   \n",
       "21249   2021-10-01 00:17:56              MLK Jr Dr & 29th St     TA1307000139   \n",
       "\n",
       "                     end_station_name end_station_id  start_lat  start_lng  \\\n",
       "271143       Noble St & Milwaukee Ave          13290  41.885483 -87.652305   \n",
       "117528    Winchester Ave & Elston Ave   KA1504000140  41.915983 -87.677335   \n",
       "341788  Greenview Ave & Diversey Pkwy          13294  41.943670 -87.648950   \n",
       "200504     Clarendon Ave & Junior Ter          13389  41.954383 -87.648043   \n",
       "21249       Clinton St & Roosevelt Rd         WL-008  41.842052 -87.617000   \n",
       "\n",
       "          end_lat    end_lng member_casual          start_time  \\\n",
       "271143  41.900680 -87.662600        casual 2021-10-01 00:00:09   \n",
       "117528  41.924091 -87.676460        casual 2021-10-01 00:00:16   \n",
       "341788  41.932590 -87.665936        casual 2021-10-01 00:00:18   \n",
       "200504  41.961004 -87.649603        member 2021-10-01 00:02:22   \n",
       "21249   41.867118 -87.641088        member 2021-10-01 00:02:27   \n",
       "\n",
       "                  end_time    running_time start_date1  week_day  \n",
       "271143 2021-10-01 00:10:12 0 days 00:10:03  2021-10-01  Thursday  \n",
       "117528 2021-10-01 00:05:29 0 days 00:05:13  2021-10-01  Thursday  \n",
       "341788 2021-10-01 00:08:52 0 days 00:08:34  2021-10-01  Thursday  \n",
       "200504 2021-10-01 00:06:40 0 days 00:04:18  2021-10-01  Thursday  \n",
       "21249  2021-10-01 00:17:56 0 days 00:15:29  2021-10-01  Thursday  "
      ]
     },
     "execution_count": 20,
     "metadata": {},
     "output_type": "execute_result"
    }
   ],
   "source": [
    "df = df.dropna()\n",
    "df.head()"
   ]
  },
  {
   "cell_type": "code",
   "execution_count": 21,
   "id": "5c7c1d18",
   "metadata": {},
   "outputs": [
    {
     "data": {
      "text/plain": [
       "ride_id               0\n",
       "rideable_type         0\n",
       "started_at            0\n",
       "ended_at              0\n",
       "start_station_name    0\n",
       "start_station_id      0\n",
       "end_station_name      0\n",
       "end_station_id        0\n",
       "start_lat             0\n",
       "start_lng             0\n",
       "end_lat               0\n",
       "end_lng               0\n",
       "member_casual         0\n",
       "start_time            0\n",
       "end_time              0\n",
       "running_time          0\n",
       "start_date1           0\n",
       "week_day              0\n",
       "dtype: int64"
      ]
     },
     "execution_count": 21,
     "metadata": {},
     "output_type": "execute_result"
    }
   ],
   "source": [
    "df.isnull().sum()"
   ]
  },
  {
   "cell_type": "code",
   "execution_count": 22,
   "id": "61b20738",
   "metadata": {},
   "outputs": [
    {
     "name": "stderr",
     "output_type": "stream",
     "text": [
      "C:\\Users\\Nidhish\\AppData\\Local\\Temp\\ipykernel_13688\\1535435036.py:2: SettingWithCopyWarning: \n",
      "A value is trying to be set on a copy of a slice from a DataFrame.\n",
      "Try using .loc[row_indexer,col_indexer] = value instead\n",
      "\n",
      "See the caveats in the documentation: https://pandas.pydata.org/pandas-docs/stable/user_guide/indexing.html#returning-a-view-versus-a-copy\n",
      "  df[\"x\"] = (df[\"end_lat\"] - df[\"start_lat\"])**2\n",
      "C:\\Users\\Nidhish\\AppData\\Local\\Temp\\ipykernel_13688\\1535435036.py:3: SettingWithCopyWarning: \n",
      "A value is trying to be set on a copy of a slice from a DataFrame.\n",
      "Try using .loc[row_indexer,col_indexer] = value instead\n",
      "\n",
      "See the caveats in the documentation: https://pandas.pydata.org/pandas-docs/stable/user_guide/indexing.html#returning-a-view-versus-a-copy\n",
      "  df[\"y\"] = (df[\"end_lng\"] - df[\"start_lng\"])**2\n",
      "C:\\Users\\Nidhish\\AppData\\Local\\Temp\\ipykernel_13688\\1535435036.py:4: SettingWithCopyWarning: \n",
      "A value is trying to be set on a copy of a slice from a DataFrame.\n",
      "Try using .loc[row_indexer,col_indexer] = value instead\n",
      "\n",
      "See the caveats in the documentation: https://pandas.pydata.org/pandas-docs/stable/user_guide/indexing.html#returning-a-view-versus-a-copy\n",
      "  df[\"distance\"] = (df[\"x\"] + df[\"y\"])**(1/2)\n"
     ]
    },
    {
     "data": {
      "text/plain": [
       "271143    0.018356\n",
       "117528    0.008155\n",
       "341788    0.020281\n",
       "200504    0.006802\n",
       "21249     0.034764\n",
       "            ...   \n",
       "287928    0.012556\n",
       "70962     0.012314\n",
       "49694     0.014845\n",
       "292128    0.024989\n",
       "139222    0.010012\n",
       "Name: distance, Length: 4474141, dtype: float64"
      ]
     },
     "execution_count": 22,
     "metadata": {},
     "output_type": "execute_result"
    }
   ],
   "source": [
    "# To calculate euclidean distance between start and end point.\n",
    "df[\"x\"] = (df[\"end_lat\"] - df[\"start_lat\"])**2\n",
    "df[\"y\"] = (df[\"end_lng\"] - df[\"start_lng\"])**2\n",
    "df[\"distance\"] = (df[\"x\"] + df[\"y\"])**(1/2)\n",
    "df[\"distance\"]\n"
   ]
  },
  {
   "cell_type": "code",
   "execution_count": 23,
   "id": "8907bbe4",
   "metadata": {},
   "outputs": [
    {
     "name": "stderr",
     "output_type": "stream",
     "text": [
      "C:\\Users\\Nidhish\\AppData\\Local\\Temp\\ipykernel_13688\\2172908095.py:2: SettingWithCopyWarning: \n",
      "A value is trying to be set on a copy of a slice from a DataFrame.\n",
      "Try using .loc[row_indexer,col_indexer] = value instead\n",
      "\n",
      "See the caveats in the documentation: https://pandas.pydata.org/pandas-docs/stable/user_guide/indexing.html#returning-a-view-versus-a-copy\n",
      "  df['year'] = pd.DatetimeIndex(df[\"start_date1\"]).year\n",
      "C:\\Users\\Nidhish\\AppData\\Local\\Temp\\ipykernel_13688\\2172908095.py:3: SettingWithCopyWarning: \n",
      "A value is trying to be set on a copy of a slice from a DataFrame.\n",
      "Try using .loc[row_indexer,col_indexer] = value instead\n",
      "\n",
      "See the caveats in the documentation: https://pandas.pydata.org/pandas-docs/stable/user_guide/indexing.html#returning-a-view-versus-a-copy\n",
      "  df['month'] = pd.DatetimeIndex(df[\"start_date1\"]).month\n"
     ]
    }
   ],
   "source": [
    "# To extract year and month from start date column\n",
    "df['year'] = pd.DatetimeIndex(df[\"start_date1\"]).year\n",
    "df['month'] = pd.DatetimeIndex(df[\"start_date1\"]).month"
   ]
  },
  {
   "cell_type": "code",
   "execution_count": 25,
   "id": "e7ab6e52",
   "metadata": {},
   "outputs": [
    {
     "name": "stderr",
     "output_type": "stream",
     "text": [
      "C:\\Users\\Nidhish\\AppData\\Local\\Temp\\ipykernel_13688\\3034808188.py:1: SettingWithCopyWarning: \n",
      "A value is trying to be set on a copy of a slice from a DataFrame.\n",
      "Try using .loc[row_indexer,col_indexer] = value instead\n",
      "\n",
      "See the caveats in the documentation: https://pandas.pydata.org/pandas-docs/stable/user_guide/indexing.html#returning-a-view-versus-a-copy\n",
      "  df[\"ride_len\"] = pd.to_timedelta(df[\"running_time\"])\n"
     ]
    }
   ],
   "source": [
    "df[\"ride_len\"] = pd.to_timedelta(df[\"running_time\"])"
   ]
  },
  {
   "cell_type": "code",
   "execution_count": 26,
   "id": "e660efbb",
   "metadata": {},
   "outputs": [
    {
     "data": {
      "text/html": [
       "<div>\n",
       "<style scoped>\n",
       "    .dataframe tbody tr th:only-of-type {\n",
       "        vertical-align: middle;\n",
       "    }\n",
       "\n",
       "    .dataframe tbody tr th {\n",
       "        vertical-align: top;\n",
       "    }\n",
       "\n",
       "    .dataframe thead th {\n",
       "        text-align: right;\n",
       "    }\n",
       "</style>\n",
       "<table border=\"1\" class=\"dataframe\">\n",
       "  <thead>\n",
       "    <tr style=\"text-align: right;\">\n",
       "      <th></th>\n",
       "      <th>ride_id</th>\n",
       "      <th>rideable_type</th>\n",
       "      <th>started_at</th>\n",
       "      <th>ended_at</th>\n",
       "      <th>start_station_name</th>\n",
       "      <th>start_station_id</th>\n",
       "      <th>end_station_name</th>\n",
       "      <th>end_station_id</th>\n",
       "      <th>start_lat</th>\n",
       "      <th>start_lng</th>\n",
       "      <th>...</th>\n",
       "      <th>end_time</th>\n",
       "      <th>running_time</th>\n",
       "      <th>start_date1</th>\n",
       "      <th>week_day</th>\n",
       "      <th>x</th>\n",
       "      <th>y</th>\n",
       "      <th>distance</th>\n",
       "      <th>year</th>\n",
       "      <th>month</th>\n",
       "      <th>ride_len</th>\n",
       "    </tr>\n",
       "  </thead>\n",
       "  <tbody>\n",
       "    <tr>\n",
       "      <th>271143</th>\n",
       "      <td>ABA2BDC3595FC3E9</td>\n",
       "      <td>classic_bike</td>\n",
       "      <td>2021-10-01 00:00:09</td>\n",
       "      <td>2021-10-01 00:10:12</td>\n",
       "      <td>Morgan St &amp; Lake St</td>\n",
       "      <td>TA1306000015</td>\n",
       "      <td>Noble St &amp; Milwaukee Ave</td>\n",
       "      <td>13290</td>\n",
       "      <td>41.885483</td>\n",
       "      <td>-87.652305</td>\n",
       "      <td>...</td>\n",
       "      <td>2021-10-01 00:10:12</td>\n",
       "      <td>0 days 00:10:03</td>\n",
       "      <td>2021-10-01</td>\n",
       "      <td>Thursday</td>\n",
       "      <td>0.000231</td>\n",
       "      <td>1.059900e-04</td>\n",
       "      <td>0.018356</td>\n",
       "      <td>2021</td>\n",
       "      <td>10</td>\n",
       "      <td>0 days 00:10:03</td>\n",
       "    </tr>\n",
       "    <tr>\n",
       "      <th>117528</th>\n",
       "      <td>0BE9C131A5705D92</td>\n",
       "      <td>classic_bike</td>\n",
       "      <td>2021-10-01 00:00:16</td>\n",
       "      <td>2021-10-01 00:05:29</td>\n",
       "      <td>Damen Ave &amp; Cortland St</td>\n",
       "      <td>13133</td>\n",
       "      <td>Winchester Ave &amp; Elston Ave</td>\n",
       "      <td>KA1504000140</td>\n",
       "      <td>41.915983</td>\n",
       "      <td>-87.677335</td>\n",
       "      <td>...</td>\n",
       "      <td>2021-10-01 00:05:29</td>\n",
       "      <td>0 days 00:05:13</td>\n",
       "      <td>2021-10-01</td>\n",
       "      <td>Thursday</td>\n",
       "      <td>0.000066</td>\n",
       "      <td>7.654943e-07</td>\n",
       "      <td>0.008155</td>\n",
       "      <td>2021</td>\n",
       "      <td>10</td>\n",
       "      <td>0 days 00:05:13</td>\n",
       "    </tr>\n",
       "    <tr>\n",
       "      <th>341788</th>\n",
       "      <td>74483AC18C8C6B90</td>\n",
       "      <td>classic_bike</td>\n",
       "      <td>2021-10-01 00:00:18</td>\n",
       "      <td>2021-10-01 00:08:52</td>\n",
       "      <td>Halsted St &amp; Roscoe St</td>\n",
       "      <td>TA1309000025</td>\n",
       "      <td>Greenview Ave &amp; Diversey Pkwy</td>\n",
       "      <td>13294</td>\n",
       "      <td>41.943670</td>\n",
       "      <td>-87.648950</td>\n",
       "      <td>...</td>\n",
       "      <td>2021-10-01 00:08:52</td>\n",
       "      <td>0 days 00:08:34</td>\n",
       "      <td>2021-10-01</td>\n",
       "      <td>Thursday</td>\n",
       "      <td>0.000123</td>\n",
       "      <td>2.885361e-04</td>\n",
       "      <td>0.020281</td>\n",
       "      <td>2021</td>\n",
       "      <td>10</td>\n",
       "      <td>0 days 00:08:34</td>\n",
       "    </tr>\n",
       "    <tr>\n",
       "      <th>200504</th>\n",
       "      <td>F8DBF095F01E1B68</td>\n",
       "      <td>classic_bike</td>\n",
       "      <td>2021-10-01 00:02:22</td>\n",
       "      <td>2021-10-01 00:06:40</td>\n",
       "      <td>Pine Grove Ave &amp; Irving Park Rd</td>\n",
       "      <td>TA1308000022</td>\n",
       "      <td>Clarendon Ave &amp; Junior Ter</td>\n",
       "      <td>13389</td>\n",
       "      <td>41.954383</td>\n",
       "      <td>-87.648043</td>\n",
       "      <td>...</td>\n",
       "      <td>2021-10-01 00:06:40</td>\n",
       "      <td>0 days 00:04:18</td>\n",
       "      <td>2021-10-01</td>\n",
       "      <td>Thursday</td>\n",
       "      <td>0.000044</td>\n",
       "      <td>2.433600e-06</td>\n",
       "      <td>0.006802</td>\n",
       "      <td>2021</td>\n",
       "      <td>10</td>\n",
       "      <td>0 days 00:04:18</td>\n",
       "    </tr>\n",
       "    <tr>\n",
       "      <th>21249</th>\n",
       "      <td>B0B9EB7622461EF4</td>\n",
       "      <td>classic_bike</td>\n",
       "      <td>2021-10-01 00:02:27</td>\n",
       "      <td>2021-10-01 00:17:56</td>\n",
       "      <td>MLK Jr Dr &amp; 29th St</td>\n",
       "      <td>TA1307000139</td>\n",
       "      <td>Clinton St &amp; Roosevelt Rd</td>\n",
       "      <td>WL-008</td>\n",
       "      <td>41.842052</td>\n",
       "      <td>-87.617000</td>\n",
       "      <td>...</td>\n",
       "      <td>2021-10-01 00:17:56</td>\n",
       "      <td>0 days 00:15:29</td>\n",
       "      <td>2021-10-01</td>\n",
       "      <td>Thursday</td>\n",
       "      <td>0.000628</td>\n",
       "      <td>5.802298e-04</td>\n",
       "      <td>0.034764</td>\n",
       "      <td>2021</td>\n",
       "      <td>10</td>\n",
       "      <td>0 days 00:15:29</td>\n",
       "    </tr>\n",
       "  </tbody>\n",
       "</table>\n",
       "<p>5 rows × 24 columns</p>\n",
       "</div>"
      ],
      "text/plain": [
       "                 ride_id rideable_type           started_at  \\\n",
       "271143  ABA2BDC3595FC3E9  classic_bike  2021-10-01 00:00:09   \n",
       "117528  0BE9C131A5705D92  classic_bike  2021-10-01 00:00:16   \n",
       "341788  74483AC18C8C6B90  classic_bike  2021-10-01 00:00:18   \n",
       "200504  F8DBF095F01E1B68  classic_bike  2021-10-01 00:02:22   \n",
       "21249   B0B9EB7622461EF4  classic_bike  2021-10-01 00:02:27   \n",
       "\n",
       "                   ended_at               start_station_name start_station_id  \\\n",
       "271143  2021-10-01 00:10:12              Morgan St & Lake St     TA1306000015   \n",
       "117528  2021-10-01 00:05:29          Damen Ave & Cortland St            13133   \n",
       "341788  2021-10-01 00:08:52           Halsted St & Roscoe St     TA1309000025   \n",
       "200504  2021-10-01 00:06:40  Pine Grove Ave & Irving Park Rd     TA1308000022   \n",
       "21249   2021-10-01 00:17:56              MLK Jr Dr & 29th St     TA1307000139   \n",
       "\n",
       "                     end_station_name end_station_id  start_lat  start_lng  \\\n",
       "271143       Noble St & Milwaukee Ave          13290  41.885483 -87.652305   \n",
       "117528    Winchester Ave & Elston Ave   KA1504000140  41.915983 -87.677335   \n",
       "341788  Greenview Ave & Diversey Pkwy          13294  41.943670 -87.648950   \n",
       "200504     Clarendon Ave & Junior Ter          13389  41.954383 -87.648043   \n",
       "21249       Clinton St & Roosevelt Rd         WL-008  41.842052 -87.617000   \n",
       "\n",
       "        ...            end_time    running_time start_date1  week_day  \\\n",
       "271143  ... 2021-10-01 00:10:12 0 days 00:10:03  2021-10-01  Thursday   \n",
       "117528  ... 2021-10-01 00:05:29 0 days 00:05:13  2021-10-01  Thursday   \n",
       "341788  ... 2021-10-01 00:08:52 0 days 00:08:34  2021-10-01  Thursday   \n",
       "200504  ... 2021-10-01 00:06:40 0 days 00:04:18  2021-10-01  Thursday   \n",
       "21249   ... 2021-10-01 00:17:56 0 days 00:15:29  2021-10-01  Thursday   \n",
       "\n",
       "               x             y  distance  year  month        ride_len  \n",
       "271143  0.000231  1.059900e-04  0.018356  2021     10 0 days 00:10:03  \n",
       "117528  0.000066  7.654943e-07  0.008155  2021     10 0 days 00:05:13  \n",
       "341788  0.000123  2.885361e-04  0.020281  2021     10 0 days 00:08:34  \n",
       "200504  0.000044  2.433600e-06  0.006802  2021     10 0 days 00:04:18  \n",
       "21249   0.000628  5.802298e-04  0.034764  2021     10 0 days 00:15:29  \n",
       "\n",
       "[5 rows x 24 columns]"
      ]
     },
     "execution_count": 26,
     "metadata": {},
     "output_type": "execute_result"
    }
   ],
   "source": [
    "df.head()"
   ]
  },
  {
   "cell_type": "markdown",
   "id": "f1509ece",
   "metadata": {},
   "source": [
    "# Parameters for data analysis\n"
   ]
  },
  {
   "cell_type": "code",
   "execution_count": 29,
   "id": "20a7d8af",
   "metadata": {},
   "outputs": [
    {
     "data": {
      "text/plain": [
       "Timedelta('0 days 00:17:30.354210562')"
      ]
     },
     "execution_count": 29,
     "metadata": {},
     "output_type": "execute_result"
    }
   ],
   "source": [
    "# Mean time for all types of users\n",
    "\n",
    "mean_ridelength = df['running_time'].mean()\n",
    "mean_ridelength"
   ]
  },
  {
   "cell_type": "code",
   "execution_count": 32,
   "id": "7edc0042",
   "metadata": {},
   "outputs": [
    {
     "data": {
      "text/plain": [
       "Timedelta('28 days 06:25:01')"
      ]
     },
     "execution_count": 32,
     "metadata": {},
     "output_type": "execute_result"
    }
   ],
   "source": [
    "# Calculate the max ride_length of all types of users\n",
    "max_ride_length = df[\"ride_len\"].max()\n",
    "max_ride_length"
   ]
  },
  {
   "cell_type": "code",
   "execution_count": 36,
   "id": "b8995e18",
   "metadata": {},
   "outputs": [
    {
     "data": {
      "text/plain": [
       "Timedelta('0 days 00:12:28.949272646')"
      ]
     },
     "execution_count": 36,
     "metadata": {},
     "output_type": "execute_result"
    }
   ],
   "source": [
    "# To calculate mean ride length for member\n",
    "mean_ride_length_member = df[df[\"member_casual\"] == \"member\"]\n",
    "mean_ride_length_member = mean_ride_length_member[\"ride_len\"].mean()\n",
    "mean_ride_length_member\n",
    "\n"
   ]
  },
  {
   "cell_type": "code",
   "execution_count": 34,
   "id": "65f88d12",
   "metadata": {},
   "outputs": [
    {
     "data": {
      "text/plain": [
       "Timedelta('0 days 00:24:55.652959204')"
      ]
     },
     "execution_count": 34,
     "metadata": {},
     "output_type": "execute_result"
    }
   ],
   "source": [
    "# To calculate mean ride length for casual riders\n",
    "mean_ride_length_casual = df[df[\"member_casual\"] == \"casual\"]\n",
    "mean_ride_length_casual = mean_ride_length_casual[\"ride_len\"].mean()\n",
    "mean_ride_length_casual"
   ]
  },
  {
   "cell_type": "code",
   "execution_count": 37,
   "id": "0ea3e1f1",
   "metadata": {},
   "outputs": [
    {
     "data": {
      "text/plain": [
       "Timedelta('1 days 00:52:55')"
      ]
     },
     "execution_count": 37,
     "metadata": {},
     "output_type": "execute_result"
    }
   ],
   "source": [
    "# To calculate max ride length for member\n",
    "max_ride_length_member = df[df[\"member_casual\"] == \"member\"]\n",
    "max_ride_length_member = max_ride_length_member[\"ride_len\"].max()\n",
    "max_ride_length_member"
   ]
  },
  {
   "cell_type": "code",
   "execution_count": 38,
   "id": "d8a6ce07",
   "metadata": {},
   "outputs": [
    {
     "data": {
      "text/plain": [
       "Timedelta('28 days 06:25:01')"
      ]
     },
     "execution_count": 38,
     "metadata": {},
     "output_type": "execute_result"
    }
   ],
   "source": [
    "# To calculate max ride length for casual riders\n",
    "max_ride_length_casual = df[df[\"member_casual\"] == \"casual\"]\n",
    "max_ride_length_casual = max_ride_length_casual[\"ride_len\"].max()\n",
    "max_ride_length_casual"
   ]
  },
  {
   "cell_type": "code",
   "execution_count": 39,
   "id": "e1141fb9",
   "metadata": {},
   "outputs": [
    {
     "data": {
      "text/plain": [
       "0    Friday\n",
       "Name: week_day, dtype: object"
      ]
     },
     "execution_count": 39,
     "metadata": {},
     "output_type": "execute_result"
    }
   ],
   "source": [
    "# Calculate the mode of week_day for all types of users\n",
    "mode_week_day = df[\"week_day\"].mode()\n",
    "mode_week_day"
   ]
  },
  {
   "cell_type": "code",
   "execution_count": 40,
   "id": "da43aba3",
   "metadata": {},
   "outputs": [
    {
     "data": {
      "text/plain": [
       "0    Monday\n",
       "Name: week_day, dtype: object"
      ]
     },
     "execution_count": 40,
     "metadata": {},
     "output_type": "execute_result"
    }
   ],
   "source": [
    "# To calculate mode of week_day for member\n",
    "mode_week_day_member = df[df[\"member_casual\"] == \"member\"]\n",
    "mode_week_day_member = mode_week_day_member[\"week_day\"].mode()\n",
    "mode_week_day_member"
   ]
  },
  {
   "cell_type": "code",
   "execution_count": 41,
   "id": "99cf7111",
   "metadata": {},
   "outputs": [
    {
     "data": {
      "text/plain": [
       "0    Friday\n",
       "Name: week_day, dtype: object"
      ]
     },
     "execution_count": 41,
     "metadata": {},
     "output_type": "execute_result"
    }
   ],
   "source": [
    "# To calculate mode of week_day for casual\n",
    "mode_week_day_casual = df[df[\"member_casual\"] == \"casual\"]\n",
    "mode_week_day_casual = mode_week_day_casual[\"week_day\"].mode()\n",
    "mode_week_day_casual"
   ]
  },
  {
   "cell_type": "code",
   "execution_count": 42,
   "id": "a98b4cac",
   "metadata": {},
   "outputs": [
    {
     "name": "stderr",
     "output_type": "stream",
     "text": [
      "C:\\Users\\Nidhish\\AppData\\Local\\Temp\\ipykernel_13688\\1471390233.py:3: SettingWithCopyWarning: \n",
      "A value is trying to be set on a copy of a slice from a DataFrame.\n",
      "Try using .loc[row_indexer,col_indexer] = value instead\n",
      "\n",
      "See the caveats in the documentation: https://pandas.pydata.org/pandas-docs/stable/user_guide/indexing.html#returning-a-view-versus-a-copy\n",
      "  df['week_day'] = df['week_day'].apply(lambda y: dict1[y])\n"
     ]
    },
    {
     "data": {
      "text/plain": [
       "week_day\n",
       "0    583331\n",
       "1    631349\n",
       "2    629556\n",
       "3    637192\n",
       "4    637055\n",
       "5    739175\n",
       "6    616483\n",
       "Name: ride_id, dtype: int64"
      ]
     },
     "execution_count": 42,
     "metadata": {},
     "output_type": "execute_result"
    }
   ],
   "source": [
    "# Calculate the number of rides for users by week_day by adding Count of ride_id to Values\n",
    "dict1 = {\"Sunday\": 0, \"Monday\": 1, \"Tuesday\": 2, \"Wednesday\": 3, \"Thursday\": 4, \"Friday\":5, \"Saturday\": 6}\n",
    "df['week_day'] = df['week_day'].apply(lambda y: dict1[y])\n",
    "\n",
    "count_users_week_day = df.groupby('week_day')['ride_id'].count()\n",
    "count_users_week_day = count_users_week_day.sort_index()\n",
    "count_users_week_day"
   ]
  },
  {
   "cell_type": "code",
   "execution_count": 43,
   "id": "0190d7b4",
   "metadata": {},
   "outputs": [
    {
     "data": {
      "text/plain": [
       "week_day\n",
       "0    373294\n",
       "1    428440\n",
       "2    423238\n",
       "3    412227\n",
       "4    377430\n",
       "5    350991\n",
       "6    302546\n",
       "Name: ride_id, dtype: int64"
      ]
     },
     "execution_count": 43,
     "metadata": {},
     "output_type": "execute_result"
    }
   ],
   "source": [
    "# Calculate the number of rides for member by week_day by adding Count of ride_id to Values\n",
    "count_member_week_day = df[df[\"member_casual\"] == \"member\"].groupby('week_day')['ride_id'].count()\n",
    "count_member_week_day"
   ]
  },
  {
   "cell_type": "code",
   "execution_count": 44,
   "id": "926f66e4",
   "metadata": {},
   "outputs": [
    {
     "data": {
      "text/plain": [
       "week_day\n",
       "0    210037\n",
       "1    202909\n",
       "2    206318\n",
       "3    224965\n",
       "4    259625\n",
       "5    388184\n",
       "6    313937\n",
       "Name: ride_id, dtype: int64"
      ]
     },
     "execution_count": 44,
     "metadata": {},
     "output_type": "execute_result"
    }
   ],
   "source": [
    "# Calculate the number of rides for casual by week_day by adding Count of ride_id to Values\n",
    "count_casual_week_day = df[df[\"member_casual\"] == \"casual\"].groupby('week_day')['ride_id'].count()\n",
    "count_casual_week_day"
   ]
  },
  {
   "cell_type": "code",
   "execution_count": 45,
   "id": "11a7ced1",
   "metadata": {},
   "outputs": [
    {
     "data": {
      "image/png": "[encoded data removed]",
      "text/plain": [
       "<Figure size 576x432 with 1 Axes>"
      ]
     },
     "metadata": {
      "needs_background": "light"
     },
     "output_type": "display_data"
    }
   ],
   "source": [
    "# To plot graph of Weekday Vs Number Of Rides\n",
    "plt.figure(figsize = (8,6))\n",
    "plt.plot(count_users_week_day.index, count_users_week_day.values)\n",
    "plt.plot(count_member_week_day.index, count_member_week_day.values)\n",
    "plt.plot(count_casual_week_day.index, count_casual_week_day.values)\n",
    "plt.title(\"Calculate the number of rides for different users by week_day by adding Count of ride_id to Values\")\n",
    "plt.legend([\"user\", \"member\", \"casual\"])\n",
    "labels = [\"Sunday\", \"Monday\", \"Tuesday\", \"Wednesday\", \"Thursday\", \"Friday\", \"Saturday\"]\n",
    "plt.xticks(count_casual_week_day.index, labels)\n",
    "plt.show()"
   ]
  },
  {
   "cell_type": "code",
   "execution_count": 46,
   "id": "24e16ae2",
   "metadata": {},
   "outputs": [
    {
     "data": {
      "text/plain": [
       "week_day\n",
       "0   0 days 00:16:59.170438396\n",
       "1   0 days 00:15:09.813136632\n",
       "2   0 days 00:15:02.346232900\n",
       "3   0 days 00:15:34.146527263\n",
       "4   0 days 00:16:40.298415364\n",
       "5   0 days 00:21:11.360282747\n",
       "6   0 days 00:21:21.784720746\n",
       "Name: ride_len, dtype: timedelta64[ns]"
      ]
     },
     "execution_count": 46,
     "metadata": {},
     "output_type": "execute_result"
    }
   ],
   "source": [
    "# Calculate the average ride_length for users by week_day\n",
    "user_avg_ride_len_week_day = df.groupby(\"week_day\")['ride_len'].mean(numeric_only=False)\n",
    "user_avg_ride_len_week_day"
   ]
  },
  {
   "cell_type": "code",
   "execution_count": 47,
   "id": "130e268d",
   "metadata": {},
   "outputs": [
    {
     "data": {
      "text/plain": [
       "week_day\n",
       "0   0 days 00:12:03.539502376\n",
       "1   0 days 00:11:49.080902810\n",
       "2   0 days 00:11:52.658749923\n",
       "3   0 days 00:12:01.404136555\n",
       "4   0 days 00:12:12.488638952\n",
       "5   0 days 00:14:03.024710035\n",
       "6   0 days 00:13:56.453326105\n",
       "Name: ride_len, dtype: timedelta64[ns]"
      ]
     },
     "execution_count": 47,
     "metadata": {},
     "output_type": "execute_result"
    }
   ],
   "source": [
    "# Calculate the average ride_length for members by week_day\n",
    "member_avg_ride_len_week_day = df[df[\"member_casual\"] == \"member\"].groupby('week_day')['ride_len'].mean(numeric_only=False)\n",
    "member_avg_ride_len_week_day"
   ]
  },
  {
   "cell_type": "code",
   "execution_count": 50,
   "id": "ce42d52d",
   "metadata": {},
   "outputs": [
    {
     "data": {
      "text/plain": [
       "week_day\n",
       "0   0 days 00:25:44.588601056\n",
       "1   0 days 00:22:13.656920097\n",
       "2   0 days 00:21:31.468611560\n",
       "3   0 days 00:22:03.976756384\n",
       "4   0 days 00:23:09.627038998\n",
       "5   0 days 00:27:38.655820435\n",
       "6   0 days 00:28:30.957555178\n",
       "Name: ride_len, dtype: timedelta64[ns]"
      ]
     },
     "execution_count": 50,
     "metadata": {},
     "output_type": "execute_result"
    }
   ],
   "source": [
    "# Calculate the average ride_length for casuals by week_day\n",
    "casual_avg_ride_len_week_day = df[df[\"member_casual\"] == \"casual\"].groupby('week_day')['ride_len'].mean(numeric_only=False)\n",
    "casual_avg_ride_len_week_day"
   ]
  },
  {
   "cell_type": "code",
   "execution_count": 53,
   "id": "9438d63e",
   "metadata": {},
   "outputs": [
    {
     "data": {
      "image/png": "[encoded data removed]",
      "text/plain": [
       "<Figure size 432x288 with 1 Axes>"
      ]
     },
     "metadata": {
      "needs_background": "light"
     },
     "output_type": "display_data"
    }
   ],
   "source": [
    "\n",
    "# To plot graph of Weekday Vs Average ride length\n",
    "plt.plot(user_avg_ride_len_week_day/pd.Timedelta(minutes=1))\n",
    "plt.plot(member_avg_ride_len_week_day/pd.Timedelta(minutes=1))\n",
    "plt.plot(casual_avg_ride_len_week_day/pd.Timedelta(minutes=1))\n",
    "plt.title(\"The average ride_length for different users by week_day\")\n",
    "plt.legend([\"user\", \"member\", \"casual\"])\n",
    "labels = [\"Sunday\", \"Monday\", \"Tuesday\", \"Wednesday\", \"Thursday\", \"Friday\", \"Saturday\"]\n",
    "plt.xticks(user_avg_ride_len_week_day.index, labels)\n",
    "plt.show()"
   ]
  },
  {
   "cell_type": "markdown",
   "id": "f9999f01",
   "metadata": {},
   "source": [
    "Dropping the columns not required"
   ]
  },
  {
   "cell_type": "code",
   "execution_count": 54,
   "id": "8cf17307",
   "metadata": {},
   "outputs": [],
   "source": [
    "df1 = df[[\"ride_id\", \"rideable_type\", \"ride_len\", \"week_day\", \"distance\", \"year\", \"month\", \"member_casual\"]]"
   ]
  },
  {
   "cell_type": "code",
   "execution_count": 55,
   "id": "acd74acf",
   "metadata": {},
   "outputs": [
    {
     "data": {
      "text/html": [
       "<div>\n",
       "<style scoped>\n",
       "    .dataframe tbody tr th:only-of-type {\n",
       "        vertical-align: middle;\n",
       "    }\n",
       "\n",
       "    .dataframe tbody tr th {\n",
       "        vertical-align: top;\n",
       "    }\n",
       "\n",
       "    .dataframe thead th {\n",
       "        text-align: right;\n",
       "    }\n",
       "</style>\n",
       "<table border=\"1\" class=\"dataframe\">\n",
       "  <thead>\n",
       "    <tr style=\"text-align: right;\">\n",
       "      <th></th>\n",
       "      <th>ride_id</th>\n",
       "      <th>rideable_type</th>\n",
       "      <th>ride_len</th>\n",
       "      <th>week_day</th>\n",
       "      <th>distance</th>\n",
       "      <th>year</th>\n",
       "      <th>month</th>\n",
       "      <th>member_casual</th>\n",
       "    </tr>\n",
       "  </thead>\n",
       "  <tbody>\n",
       "    <tr>\n",
       "      <th>271143</th>\n",
       "      <td>ABA2BDC3595FC3E9</td>\n",
       "      <td>classic_bike</td>\n",
       "      <td>0 days 00:10:03</td>\n",
       "      <td>4</td>\n",
       "      <td>0.018356</td>\n",
       "      <td>2021</td>\n",
       "      <td>10</td>\n",
       "      <td>casual</td>\n",
       "    </tr>\n",
       "    <tr>\n",
       "      <th>117528</th>\n",
       "      <td>0BE9C131A5705D92</td>\n",
       "      <td>classic_bike</td>\n",
       "      <td>0 days 00:05:13</td>\n",
       "      <td>4</td>\n",
       "      <td>0.008155</td>\n",
       "      <td>2021</td>\n",
       "      <td>10</td>\n",
       "      <td>casual</td>\n",
       "    </tr>\n",
       "    <tr>\n",
       "      <th>341788</th>\n",
       "      <td>74483AC18C8C6B90</td>\n",
       "      <td>classic_bike</td>\n",
       "      <td>0 days 00:08:34</td>\n",
       "      <td>4</td>\n",
       "      <td>0.020281</td>\n",
       "      <td>2021</td>\n",
       "      <td>10</td>\n",
       "      <td>casual</td>\n",
       "    </tr>\n",
       "    <tr>\n",
       "      <th>200504</th>\n",
       "      <td>F8DBF095F01E1B68</td>\n",
       "      <td>classic_bike</td>\n",
       "      <td>0 days 00:04:18</td>\n",
       "      <td>4</td>\n",
       "      <td>0.006802</td>\n",
       "      <td>2021</td>\n",
       "      <td>10</td>\n",
       "      <td>member</td>\n",
       "    </tr>\n",
       "    <tr>\n",
       "      <th>21249</th>\n",
       "      <td>B0B9EB7622461EF4</td>\n",
       "      <td>classic_bike</td>\n",
       "      <td>0 days 00:15:29</td>\n",
       "      <td>4</td>\n",
       "      <td>0.034764</td>\n",
       "      <td>2021</td>\n",
       "      <td>10</td>\n",
       "      <td>member</td>\n",
       "    </tr>\n",
       "  </tbody>\n",
       "</table>\n",
       "</div>"
      ],
      "text/plain": [
       "                 ride_id rideable_type        ride_len  week_day  distance  \\\n",
       "271143  ABA2BDC3595FC3E9  classic_bike 0 days 00:10:03         4  0.018356   \n",
       "117528  0BE9C131A5705D92  classic_bike 0 days 00:05:13         4  0.008155   \n",
       "341788  74483AC18C8C6B90  classic_bike 0 days 00:08:34         4  0.020281   \n",
       "200504  F8DBF095F01E1B68  classic_bike 0 days 00:04:18         4  0.006802   \n",
       "21249   B0B9EB7622461EF4  classic_bike 0 days 00:15:29         4  0.034764   \n",
       "\n",
       "        year  month member_casual  \n",
       "271143  2021     10        casual  \n",
       "117528  2021     10        casual  \n",
       "341788  2021     10        casual  \n",
       "200504  2021     10        member  \n",
       "21249   2021     10        member  "
      ]
     },
     "execution_count": 55,
     "metadata": {},
     "output_type": "execute_result"
    }
   ],
   "source": [
    "df1.head()"
   ]
  },
  {
   "cell_type": "markdown",
   "id": "ddfbc99e",
   "metadata": {},
   "source": [
    "# Data Analysis"
   ]
  },
  {
   "cell_type": "code",
   "execution_count": 56,
   "id": "0993f9af",
   "metadata": {},
   "outputs": [
    {
     "data": {
      "text/plain": [
       "member    2668166\n",
       "casual    1805975\n",
       "Name: member_casual, dtype: int64"
      ]
     },
     "execution_count": 56,
     "metadata": {},
     "output_type": "execute_result"
    }
   ],
   "source": [
    "# To check the number of users in each type over past 12 months\n",
    "member_type = df1[\"member_casual\"].value_counts()\n",
    "member_type"
   ]
  },
  {
   "cell_type": "code",
   "execution_count": 57,
   "id": "b1fe8eef",
   "metadata": {},
   "outputs": [
    {
     "data": {
      "image/png": "[encoded data removed]",
      "text/plain": [
       "<Figure size 432x288 with 1 Axes>"
      ]
     },
     "metadata": {
      "needs_background": "light"
     },
     "output_type": "display_data"
    }
   ],
   "source": [
    "# To plot the count plot of users in each type\n",
    "plt.title(\"count of users in each type\")\n",
    "plt.bar(member_type.index, member_type.values)\n",
    "plt.show()"
   ]
  },
  {
   "cell_type": "code",
   "execution_count": 58,
   "id": "9d42b0d8",
   "metadata": {},
   "outputs": [
    {
     "data": {
      "image/png": "[encoded data removed]",
      "text/plain": [
       "<Figure size 576x432 with 1 Axes>"
      ]
     },
     "metadata": {},
     "output_type": "display_data"
    }
   ],
   "source": [
    "# To plot the pie chart of users in each type\n",
    "plt.figure(figsize = (8,6))\n",
    "plt.pie(member_type.values, labels = member_type.index, autopct='%1.1f%%')\n",
    "plt.title(\"Percentage of users in each type\")\n",
    "plt.legend(member_type.index)\n",
    "plt.show()"
   ]
  },
  {
   "cell_type": "code",
   "execution_count": 59,
   "id": "7d7e724e",
   "metadata": {},
   "outputs": [
    {
     "data": {
      "text/plain": [
       "year  member_casual\n",
       "2021  member            606076\n",
       "      casual            304171\n",
       "2022  member           2062090\n",
       "      casual           1501804\n",
       "Name: member_casual, dtype: int64"
      ]
     },
     "execution_count": 59,
     "metadata": {},
     "output_type": "execute_result"
    }
   ],
   "source": [
    "# To check the number of users over years\n",
    "users_over_year = df1.groupby('year')['member_casual'].value_counts()\n",
    "users_over_year"
   ]
  },
  {
   "cell_type": "code",
   "execution_count": 60,
   "id": "d886dd79",
   "metadata": {},
   "outputs": [],
   "source": [
    "# To segregate the number of users into member or casual riders over the years\n",
    "list_year = []\n",
    "list_x = []\n",
    "list_y = list(users_over_year.values)\n",
    "for i, j in users_over_year.index:\n",
    "  list_x.append(j)\n",
    "  list_year.append(str(i))"
   ]
  },
  {
   "cell_type": "code",
   "execution_count": 61,
   "id": "33b57dcf",
   "metadata": {},
   "outputs": [
    {
     "name": "stderr",
     "output_type": "stream",
     "text": [
      "C:\\Users\\Nidhish\\anaconda3\\lib\\site-packages\\seaborn\\_decorators.py:36: FutureWarning: Pass the following variables as keyword args: x, y. From version 0.12, the only valid positional argument will be `data`, and passing other arguments without an explicit keyword will result in an error or misinterpretation.\n",
      "  warnings.warn(\n"
     ]
    },
    {
     "data": {
      "text/plain": [
       "Text(0.5, 1.0, 'Count of Member and Casual Riders over the years')"
      ]
     },
     "execution_count": 61,
     "metadata": {},
     "output_type": "execute_result"
    },
    {
     "data": {
      "image/png": "[encoded data removed]",
      "text/plain": [
       "<Figure size 432x288 with 1 Axes>"
      ]
     },
     "metadata": {
      "needs_background": "light"
     },
     "output_type": "display_data"
    }
   ],
   "source": [
    "sns.barplot(list_x, list_y, hue = list_year)\n",
    "plt.title(\"Count of Member and Casual Riders over the years\")"
   ]
  },
  {
   "cell_type": "code",
   "execution_count": 62,
   "id": "caa3c195",
   "metadata": {},
   "outputs": [
    {
     "data": {
      "text/plain": [
       "month  member_casual\n",
       "1      member            67523\n",
       "       casual            12605\n",
       "2      member            74034\n",
       "       casual            15144\n",
       "3      member           148827\n",
       "       casual            67156\n",
       "4      member           180663\n",
       "       casual            91897\n",
       "5      member           282299\n",
       "       casual           220246\n",
       "6      member           328282\n",
       "       casual           292068\n",
       "7      member           331002\n",
       "       casual           311678\n",
       "8      member           335230\n",
       "       casual           270095\n",
       "9      member           314230\n",
       "       casual           220915\n",
       "10     member           288855\n",
       "       casual           189117\n",
       "11     member           185926\n",
       "       casual            69978\n",
       "12     member           131295\n",
       "       casual            45076\n",
       "Name: member_casual, dtype: int64"
      ]
     },
     "execution_count": 62,
     "metadata": {},
     "output_type": "execute_result"
    }
   ],
   "source": [
    "# To check the number of users over months\n",
    "users_over_month = df1.groupby('month')['member_casual'].value_counts()\n",
    "users_over_month"
   ]
  },
  {
   "cell_type": "code",
   "execution_count": 63,
   "id": "81bf6273",
   "metadata": {},
   "outputs": [],
   "source": [
    "# To segregate the number of users into member or casual riders over the months\n",
    "list_month = []\n",
    "list_x = []\n",
    "list_y = list(users_over_month.values)\n",
    "for i, j in users_over_month.index:\n",
    "  list_x.append(j)\n",
    "  list_month.append(str(i))"
   ]
  },
  {
   "cell_type": "code",
   "execution_count": 64,
   "id": "bee1df87",
   "metadata": {},
   "outputs": [
    {
     "name": "stderr",
     "output_type": "stream",
     "text": [
      "C:\\Users\\Nidhish\\anaconda3\\lib\\site-packages\\seaborn\\_decorators.py:36: FutureWarning: Pass the following variables as keyword args: x, y. From version 0.12, the only valid positional argument will be `data`, and passing other arguments without an explicit keyword will result in an error or misinterpretation.\n",
      "  warnings.warn(\n"
     ]
    },
    {
     "data": {
      "text/plain": [
       "Text(0.5, 1.0, 'Count of Member and Casual Riders over the months')"
      ]
     },
     "execution_count": 64,
     "metadata": {},
     "output_type": "execute_result"
    },
    {
     "data": {
      "image/png": "[encoded data removed]",
      "text/plain": [
       "<Figure size 1296x576 with 1 Axes>"
      ]
     },
     "metadata": {
      "needs_background": "light"
     },
     "output_type": "display_data"
    }
   ],
   "source": [
    "# Plot count of Member and Casual Riders over the months\n",
    "plt.figure(figsize = (18,8))\n",
    "sns.barplot(list_x, list_y, hue = list_month)\n",
    "plt.title(\"Count of Member and Casual Riders over the months\")"
   ]
  },
  {
   "cell_type": "code",
   "execution_count": 65,
   "id": "e1d4fd9a",
   "metadata": {},
   "outputs": [
    {
     "data": {
      "text/plain": [
       "member_casual  rideable_type\n",
       "casual         classic_bike      938348\n",
       "               electric_bike     677699\n",
       "               docked_bike       189928\n",
       "member         classic_bike     1797139\n",
       "               electric_bike     871027\n",
       "Name: rideable_type, dtype: int64"
      ]
     },
     "execution_count": 65,
     "metadata": {},
     "output_type": "execute_result"
    }
   ],
   "source": [
    "# To check the number of users for a particulat rideable_type\n",
    "ride_type = df1.groupby(\"member_casual\")[\"rideable_type\"].value_counts()\n",
    "ride_type"
   ]
  },
  {
   "cell_type": "code",
   "execution_count": 66,
   "id": "1002b920",
   "metadata": {},
   "outputs": [],
   "source": [
    "# To segregate the number of users into member or casual riders based on ride type\n",
    "list_member = []\n",
    "list_x = []\n",
    "list_y = list(ride_type.values)\n",
    "for i, j in ride_type.index:\n",
    "  list_x.append(j)\n",
    "  list_member.append(str(i))"
   ]
  },
  {
   "cell_type": "code",
   "execution_count": 67,
   "id": "bfcd4a19",
   "metadata": {},
   "outputs": [
    {
     "name": "stderr",
     "output_type": "stream",
     "text": [
      "C:\\Users\\Nidhish\\anaconda3\\lib\\site-packages\\seaborn\\_decorators.py:36: FutureWarning: Pass the following variables as keyword args: x, y. From version 0.12, the only valid positional argument will be `data`, and passing other arguments without an explicit keyword will result in an error or misinterpretation.\n",
      "  warnings.warn(\n"
     ]
    },
    {
     "data": {
      "text/plain": [
       "Text(0.5, 1.0, 'Count of Member and Casual Riders over the months')"
      ]
     },
     "execution_count": 67,
     "metadata": {},
     "output_type": "execute_result"
    },
    {
     "data": {
      "image/png": "[encoded data removed]",
      "text/plain": [
       "<Figure size 1296x576 with 1 Axes>"
      ]
     },
     "metadata": {
      "needs_background": "light"
     },
     "output_type": "display_data"
    }
   ],
   "source": [
    "# To plot number of users into member or casual riders based on ride type\n",
    "plt.figure(figsize = (18,8))\n",
    "sns.barplot(list_x, list_y, hue = list_member)\n",
    "plt.title(\"Count of Member and Casual Riders over the months\")"
   ]
  },
  {
   "cell_type": "code",
   "execution_count": null,
   "id": "8f3c731c",
   "metadata": {},
   "outputs": [],
   "source": []
  }
 ],
 "metadata": {
  "kernelspec": {
   "display_name": "Python 3 (ipykernel)",
   "language": "python",
   "name": "python3"
  },
  "language_info": {
   "codemirror_mode": {
    "name": "ipython",
    "version": 3
   },
   "file_extension": ".py",
   "mimetype": "text/x-python",
   "name": "python",
   "nbconvert_exporter": "python",
   "pygments_lexer": "ipython3",
   "version": "3.9.12"
  }
 },
 "nbformat": 4,
 "nbformat_minor": 5
}
